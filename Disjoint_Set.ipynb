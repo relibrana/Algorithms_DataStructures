{
  "nbformat": 4,
  "nbformat_minor": 0,
  "metadata": {
    "colab": {
      "name": "Disjoint Set.ipynb",
      "provenance": [],
      "authorship_tag": "ABX9TyNSouTcTNhuZ9NnymQiQHFE"
    },
    "kernelspec": {
      "name": "python3",
      "display_name": "Python 3"
    },
    "language_info": {
      "name": "python"
    }
  },
  "cells": [
    {
      "cell_type": "markdown",
      "source": [
        "#Quick Find"
      ],
      "metadata": {
        "id": "ZjzXwj2ZPj31"
      }
    },
    {
      "cell_type": "code",
      "execution_count": 1,
      "metadata": {
        "id": "J5A6qGo1Phgh"
      },
      "outputs": [],
      "source": [
        "class UnionFind:\n",
        "  def __init__(self, size):\n",
        "    self.root = [i for i in range(size)]\n",
        "\n",
        "  def find(self,x):\n",
        "    return self.root[x]\n",
        "\n",
        "  def union(self,x,y):\n",
        "    rootX=self.find(x)\n",
        "    rootY=self.find(y)\n",
        "    if rootX!=rootY:\n",
        "      for i in range(len(self.root)):\n",
        "        if(self.root[i]==rootY):\n",
        "          self.root[i]=rootX\n",
        "\n",
        "  def connected(self,x,y):\n",
        "    return self.find(x)==self.find(y)"
      ]
    },
    {
      "cell_type": "code",
      "source": [
        "# Test Case\n",
        "uf = UnionFind(10)\n",
        "# 1-2-5-6-7 3-8-9 4\n",
        "uf.union(1, 2)\n",
        "uf.union(2, 5)\n",
        "uf.union(5, 6)\n",
        "uf.union(6, 7)\n",
        "uf.union(3, 8)\n",
        "uf.union(8, 9)\n",
        "print(uf.connected(1, 5))  # true\n",
        "print(uf.connected(5, 7))  # true\n",
        "print(uf.connected(4, 9))  # false\n",
        "# 1-2-5-6-7 3-8-9-4\n",
        "uf.union(9, 4)\n",
        "print(uf.connected(4, 9))  # true"
      ],
      "metadata": {
        "colab": {
          "base_uri": "https://localhost:8080/"
        },
        "id": "ygAgzv3CX1RW",
        "outputId": "a1aadcf2-67c7-4136-dfa6-ee10e76a3239"
      },
      "execution_count": 2,
      "outputs": [
        {
          "output_type": "stream",
          "name": "stdout",
          "text": [
            "True\n",
            "True\n",
            "False\n",
            "True\n"
          ]
        }
      ]
    },
    {
      "cell_type": "markdown",
      "source": [
        "#Quick Union"
      ],
      "metadata": {
        "id": "m9kvY_LRZ_4j"
      }
    },
    {
      "cell_type": "code",
      "source": [
        "class UnionFind2:\n",
        "  def __init__(self, size):\n",
        "    self.root = [i for i in range(size)]\n",
        "\n",
        "  def find(self,x):\n",
        "    while x!=self.root[x]:\n",
        "      x=self.root[x]\n",
        "    return x\n",
        "  \n",
        "  def union(self,x,y):\n",
        "    rootX=self.find(x)\n",
        "    rootY=self.find(y)\n",
        "    if rootX!=rootY:\n",
        "      self.root[rootY]=rootX\n",
        "\n",
        "  def connected(self,x,y):\n",
        "    return self.find(x)==self.find(y)"
      ],
      "metadata": {
        "id": "IsDiuxkjYBCj"
      },
      "execution_count": 7,
      "outputs": []
    },
    {
      "cell_type": "code",
      "source": [
        "# Test Case\n",
        "uf = UnionFind2(10)\n",
        "# 1-2-5-6-7 3-8-9 4\n",
        "uf.union(1, 2)\n",
        "uf.union(2, 5)\n",
        "uf.union(5, 6)\n",
        "uf.union(6, 7)\n",
        "uf.union(3, 8)\n",
        "uf.union(8, 9)\n",
        "print(uf.connected(1, 5))  # true\n",
        "print(uf.connected(5, 7))  # true\n",
        "print(uf.connected(4, 9))  # false\n",
        "# 1-2-5-6-7 3-8-9-4\n",
        "uf.union(9, 4)\n",
        "print(uf.connected(4, 9))  # true"
      ],
      "metadata": {
        "colab": {
          "base_uri": "https://localhost:8080/"
        },
        "id": "OLbFBEqdclAs",
        "outputId": "51886995-e12f-41cf-a861-0a2b59084985"
      },
      "execution_count": 8,
      "outputs": [
        {
          "output_type": "stream",
          "name": "stdout",
          "text": [
            "True\n",
            "True\n",
            "False\n",
            "True\n"
          ]
        }
      ]
    },
    {
      "cell_type": "markdown",
      "source": [
        "#Union by rank"
      ],
      "metadata": {
        "id": "XaBZ81UunlbH"
      }
    },
    {
      "cell_type": "code",
      "source": [
        "class UnionFind3:\n",
        "  def __init__(self, size):\n",
        "    self.root = [i for i in range(size)]\n",
        "    self.rank=[1 for i in range(size)]\n",
        "\n",
        "  def find(self,x):\n",
        "    while x!=self.root[x]:\n",
        "      x=self.root[x]\n",
        "    return x\n",
        "  \n",
        "  def union(self,x,y):\n",
        "    rootX=self.find(x)\n",
        "    rootY=self.find(y)\n",
        "    if rootX!=rootY:\n",
        "      if self.rank[rootX]>self.rank[rootY]:\n",
        "        self.root[rootY]=rootX\n",
        "      elif self.rank[rootX]<self.rank[rootY]:\n",
        "        self.root[rootX]=rootY\n",
        "      else:\n",
        "        self.root[rootY]=rootX\n",
        "        self.rank[rootX]+=1\n",
        "\n",
        "  def connected(self,x,y):\n",
        "    return self.find(x)==self.find(y)\n",
        "\n"
      ],
      "metadata": {
        "id": "gELx11Z8cnV5"
      },
      "execution_count": 9,
      "outputs": []
    },
    {
      "cell_type": "code",
      "source": [
        "# Test Case\n",
        "uf = UnionFind(10)\n",
        "# 1-2-5-6-7 3-8-9 4\n",
        "uf.union(1, 2)\n",
        "uf.union(2, 5)\n",
        "uf.union(5, 6)\n",
        "uf.union(6, 7)\n",
        "uf.union(3, 8)\n",
        "uf.union(8, 9)\n",
        "print(uf.connected(1, 5))  # true\n",
        "print(uf.connected(5, 7))  # true\n",
        "print(uf.connected(4, 9))  # false\n",
        "# 1-2-5-6-7 3-8-9-4\n",
        "uf.union(9, 4)\n",
        "print(uf.connected(4, 9))  # true"
      ],
      "metadata": {
        "colab": {
          "base_uri": "https://localhost:8080/"
        },
        "id": "deODlesbm-Xv",
        "outputId": "803522ef-85ec-4228-e324-69b0497f703f"
      },
      "execution_count": 10,
      "outputs": [
        {
          "output_type": "stream",
          "name": "stdout",
          "text": [
            "True\n",
            "True\n",
            "False\n",
            "True\n"
          ]
        }
      ]
    },
    {
      "cell_type": "code",
      "source": [
        ""
      ],
      "metadata": {
        "id": "PBWTaFXOm_Z-"
      },
      "execution_count": null,
      "outputs": []
    }
  ]
}